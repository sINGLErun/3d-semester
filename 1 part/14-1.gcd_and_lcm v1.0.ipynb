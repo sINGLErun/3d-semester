{
 "cells": [
  {
   "cell_type": "code",
   "execution_count": 1,
   "metadata": {},
   "outputs": [],
   "source": [
    "#12. Определить НОД и НОК\n",
    "#• Считать N натуральных чисел.\n",
    "#• Вычислить и вывести наибольший общий делитель введенных чисел.\n",
    "#• Вычислить и вывести наименьшее общее кратное введенных чисел.\n",
    "#• Как обобщить произвольную операцию на N аргументов?\n",
    "\n",
    "from math import gcd"
   ]
  },
  {
   "cell_type": "code",
   "execution_count": 2,
   "metadata": {},
   "outputs": [
    {
     "name": "stdout",
     "output_type": "stream",
     "text": [
      "100\n",
      "12\n",
      "35\n",
      "123\n",
      "1586\n",
      "1569\n",
      "1475\n",
      "1\n",
      "531\n",
      "1569\n"
     ]
    }
   ],
   "source": [
    "#• Считать N натуральных чисел.\n",
    "N = 10\n",
    "\n",
    "numbers = [int(input()) for i in range (0, N)]\n",
    "#numbers = [8,166,16,14,7,9,47]"
   ]
  },
  {
   "cell_type": "code",
   "execution_count": 3,
   "metadata": {},
   "outputs": [
    {
     "name": "stdout",
     "output_type": "stream",
     "text": [
      "great common divisior of all number is: 1\n"
     ]
    }
   ],
   "source": [
    "#• Вычислить и вывести наибольший общий делитель введенных чисел.\n",
    "\n",
    "x = numbers[0]\n",
    "y = numbers[1]\n",
    "gcd_of_numbers = gcd(x, y)\n",
    "\n",
    "for i in range (2, len(numbers)):\n",
    "    gcd_of_numbers = gcd(gcd_of_numbers, numbers[i])\n",
    "    \n",
    "print(f'great common divisior of all number is: {gcd_of_numbers}')"
   ]
  },
  {
   "cell_type": "code",
   "execution_count": 42,
   "metadata": {},
   "outputs": [
    {
     "name": "stdout",
     "output_type": "stream",
     "text": [
      "least common multiple of all number is: 588800000\n"
     ]
    }
   ],
   "source": [
    "#• Вычислить и вывести наименьшее общее кратное введенных чисел.\n",
    "\n",
    "x = numbers[0]\n",
    "y = numbers[1]\n",
    "lcm_of_numbers = int(abs(x*y)/gcd(x, y))\n",
    "\n",
    "for i in range (2, len(numbers)):\n",
    "    lcm_of_numbers = int(abs(lcm_of_numbers*numbers[i])/gcd(lcm_of_numbers,numbers[i]))\n",
    "    \n",
    "print(f'least common multiple of all number is: {lcm_of_numbers}')"
   ]
  }
 ],
 "metadata": {
  "kernelspec": {
   "display_name": "Python 3",
   "language": "python",
   "name": "python3"
  },
  "language_info": {
   "codemirror_mode": {
    "name": "ipython",
    "version": 3
   },
   "file_extension": ".py",
   "mimetype": "text/x-python",
   "name": "python",
   "nbconvert_exporter": "python",
   "pygments_lexer": "ipython3",
   "version": "3.7.4"
  }
 },
 "nbformat": 4,
 "nbformat_minor": 2
}
