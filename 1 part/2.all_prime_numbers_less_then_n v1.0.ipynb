{
 "cells": [
  {
   "cell_type": "code",
   "execution_count": 9,
   "metadata": {},
   "outputs": [
    {
     "name": "stdout",
     "output_type": "stream",
     "text": [
      "let's print all prime numbers less then n\n",
      "        tell me your number n\n",
      "100\n"
     ]
    },
    {
     "data": {
      "text/plain": [
       "[1,\n",
       " 2,\n",
       " 3,\n",
       " 5,\n",
       " 7,\n",
       " 11,\n",
       " 13,\n",
       " 17,\n",
       " 19,\n",
       " 23,\n",
       " 29,\n",
       " 31,\n",
       " 37,\n",
       " 41,\n",
       " 43,\n",
       " 47,\n",
       " 53,\n",
       " 59,\n",
       " 61,\n",
       " 67,\n",
       " 71,\n",
       " 73,\n",
       " 79,\n",
       " 83,\n",
       " 89,\n",
       " 97]"
      ]
     },
     "execution_count": 9,
     "metadata": {},
     "output_type": "execute_result"
    }
   ],
   "source": [
    "#описание функции считается за строчки?\n",
    "#списковые включения?\n",
    "\n",
    "def is_prime(n):\n",
    "    if n % 2 == 0: return n == 2 #вернёт true, если n = 2, иначе (если делится на 2) false\n",
    "    m = 3\n",
    "    while m * m <= n and n % m != 0:\n",
    "        m += 2\n",
    "    return m * m > n #вернет true, если делитель совпадает с n, иначе вернет false \n",
    "\n",
    "print('''let's print all prime numbers less then n\n",
    "        tell me your number n''')\n",
    "n = int(input())\n",
    "[i for i in range(1, n) if is_prime(i)]"
   ]
  }
 ],
 "metadata": {
  "kernelspec": {
   "display_name": "Python 3",
   "language": "python",
   "name": "python3"
  },
  "language_info": {
   "codemirror_mode": {
    "name": "ipython",
    "version": 3
   },
   "file_extension": ".py",
   "mimetype": "text/x-python",
   "name": "python",
   "nbconvert_exporter": "python",
   "pygments_lexer": "ipython3",
   "version": "3.7.4"
  }
 },
 "nbformat": 4,
 "nbformat_minor": 2
}
