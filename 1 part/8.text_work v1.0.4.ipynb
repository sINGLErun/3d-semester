{
 "cells": [
  {
   "cell_type": "code",
   "execution_count": 2,
   "metadata": {},
   "outputs": [
    {
     "data": {
      "text/plain": [
       "'We are coding on Python v3.7.4 and this is very fun after C language '"
      ]
     },
     "execution_count": 2,
     "metadata": {},
     "output_type": "execute_result"
    }
   ],
   "source": [
    "#разделяем строку на слова и склеиваем (только остается один пробел в конце лишний)\n",
    "#если просто написать ' '.join то между словами будут пробелы!\n",
    "string = 'We are coding on Python v3.7.4 and this is very fun after C language'\n",
    "''.join([s + ' ' for s in string.split()])\n",
    "''.join([string.split()[i] + ' ' for i in range(0, len(string.split()))])"
   ]
  },
  {
   "cell_type": "code",
   "execution_count": 123,
   "metadata": {},
   "outputs": [
    {
     "data": {
      "text/plain": [
       "'We are gnidoc on Python v3.7.4 and this is very fun after C language '"
      ]
     },
     "execution_count": 123,
     "metadata": {},
     "output_type": "execute_result"
    }
   ],
   "source": [
    "#разворачиваем третье слово\n",
    "string = 'We are coding on Python v3.7.4 and this is very fun after C language'\n",
    "''.join([string.split()[i] + ' ' if i != 2 else string.split()[2][::-1] + ' ' for i in range(0, len(string.split()))])"
   ]
  },
  {
   "cell_type": "code",
   "execution_count": 9,
   "metadata": {},
   "outputs": [
    {
     "name": "stdout",
     "output_type": "stream",
     "text": [
      "we are coding on Python v3.7.4 and this is very fun after C language\n"
     ]
    }
   ],
   "source": [
    "#меняем регистр в первом слове \n",
    "string = 'We are coding on Python v3.7.4 and this is very fun after C language'\n",
    "string = string[0].swapcase() + ''.join(string[1:])\n",
    "print(string)"
   ]
  },
  {
   "cell_type": "code",
   "execution_count": 2,
   "metadata": {},
   "outputs": [
    {
     "data": {
      "text/plain": [
       "[5, 0, 2, 2, 5, 2, 3, 2, 3, 0, 0, 1, 0, 6, 3, 1, 0, 3, 2, 3, 2, 2, 1, 0, 2, 0]"
      ]
     },
     "execution_count": 2,
     "metadata": {},
     "output_type": "execute_result"
    }
   ],
   "source": [
    "#считаем количество букв в тексте \n",
    "#string.lower() делает все буквы маленькими\n",
    "import string as strng\n",
    "string = 'We are coding on Python v3.7.4 and this is very fun after C language'\n",
    "[string.lower().count(w) for w in strng.ascii_letters if 96 < ord(w) < 123]"
   ]
  },
  {
   "cell_type": "code",
   "execution_count": 14,
   "metadata": {},
   "outputs": [],
   "source": [
    "#8. Работа с текстом.\n",
    "#• Считать предложение из файла.\n",
    "#• Вычислить количество слов в предложении.\n",
    "#• Развернуть порядок букв в третьем слове предложения.\n",
    "#• В получившемся предложении развернуть порядок слов.\n",
    "#• В получившейся строке сделать первую букву заглавной.\n",
    "#• Сохранить результат в файл.\n",
    "#• Построить гистограмму частотности букв без учета регистра.\n",
    "\n",
    "with open('D:\\\\python\\\\txtfiles\\\\sentence.txt') as f:\n",
    "    string = f.read()"
   ]
  },
  {
   "cell_type": "code",
   "execution_count": 15,
   "metadata": {},
   "outputs": [
    {
     "name": "stdout",
     "output_type": "stream",
     "text": [
      " this is the initial string\n",
      "We are coding on Python v3.7.4 and this is very fun after C language\n"
     ]
    }
   ],
   "source": [
    "print(\" this is the initial string\")\n",
    "print(string)"
   ]
  },
  {
   "cell_type": "code",
   "execution_count": 16,
   "metadata": {},
   "outputs": [
    {
     "name": "stdout",
     "output_type": "stream",
     "text": [
      " now we'll turn back order of the letters in 3rd word: \n",
      "We are gnidoc on Python v3.7.4 and this is very fun after C language \n"
     ]
    }
   ],
   "source": [
    "print(\" now we'll turn back order of the letters in 3rd word: \")\n",
    "string = ''.join([string.split()[i] + ' ' if i != 2 else string.split()[2][::-1] + ' ' for i in range(0, len(string.split()))])\n",
    "print(string)"
   ]
  },
  {
   "cell_type": "code",
   "execution_count": 27,
   "metadata": {},
   "outputs": [
    {
     "name": "stdout",
     "output_type": "stream",
     "text": [
      " now we'll turn back order of the words in result sentence\n",
      "language C after fun very is this and v3.7.4 Python on gnidoc are We \n"
     ]
    }
   ],
   "source": [
    "print(\" now we'll turn back order of the words in result sentence\")\n",
    "string = ''.join([s + ' ' for s in string.split()[::-1]])\n",
    "print(string)"
   ]
  },
  {
   "cell_type": "code",
   "execution_count": 3,
   "metadata": {},
   "outputs": [
    {
     "name": "stdout",
     "output_type": "stream",
     "text": [
      " and at last we'll swap size of the first letter\n",
      "we are coding on Python v3.7.4 and this is very fun after C language\n"
     ]
    }
   ],
   "source": [
    "print(\" and at last we'll swap size of the first letter\")\n",
    "string = string[0].swapcase() + string[1:]\n",
    "print(string)"
   ]
  },
  {
   "cell_type": "code",
   "execution_count": 13,
   "metadata": {},
   "outputs": [],
   "source": [
    "with open('D:\\\\python\\\\txtfiles\\\\processed_sentence.txt', 'w') as f:\n",
    "    f.write(string)"
   ]
  },
  {
   "cell_type": "code",
   "execution_count": 28,
   "metadata": {},
   "outputs": [
    {
     "data": {
      "text/plain": [
       "<matplotlib.collections.PathCollection at 0x9db610>"
      ]
     },
     "execution_count": 28,
     "metadata": {},
     "output_type": "execute_result"
    },
    {
     "data": {
      "image/png": "[encoded data removed]",
      "text/plain": [
       "<Figure size 432x288 with 1 Axes>"
      ]
     },
     "metadata": {
      "needs_background": "light"
     },
     "output_type": "display_data"
    }
   ],
   "source": [
    "import matplotlib.pyplot as plt\n",
    "import numpy as np\n",
    "import string as strng\n",
    "#plt.hist - гистограмма\n",
    "#np.histogram(range(1,10))\n",
    "#string.count('a') #считает количество букв а с учетом языка\n",
    "\n",
    "#(??) plt.hist([string.lower().count(l) for l in strng.ascii_letters if 96 < ord(l) < 123], range = [l for l in strng.ascii_letters if 96 < ord(l) < 123])\n",
    "plt.scatter([l for l in strng.ascii_letters if 96 < ord(l) < 123], [string.lower().count(l) for l in strng.ascii_letters if 96 < ord(l) < 123]) #аргумент можно запихать list"
   ]
  }
 ],
 "metadata": {
  "kernelspec": {
   "display_name": "Python 3",
   "language": "python",
   "name": "python3"
  },
  "language_info": {
   "codemirror_mode": {
    "name": "ipython",
    "version": 3
   },
   "file_extension": ".py",
   "mimetype": "text/x-python",
   "name": "python",
   "nbconvert_exporter": "python",
   "pygments_lexer": "ipython3",
   "version": "3.7.4"
  }
 },
 "nbformat": 4,
 "nbformat_minor": 2
}
