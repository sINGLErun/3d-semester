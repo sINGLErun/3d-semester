{
 "cells": [
  {
   "cell_type": "code",
   "execution_count": 2,
   "metadata": {},
   "outputs": [],
   "source": [
    "#5. Вычисление интеграла функции f(x) аналитически и численно.\n",
    "#• Функция f(x) задается в коде или вводится с клавиатуры.\n",
    "\n",
    "from math import *\n",
    "def f(x): return exp(x) - sin(x)"
   ]
  },
  {
   "cell_type": "code",
   "execution_count": 3,
   "metadata": {},
   "outputs": [
    {
     "name": "stdout",
     "output_type": "stream",
     "text": [
      "we'll find integral from your function analitically and numerically\n",
      "        for that you need to put two numbers: lower and upper limits: \n",
      "0\n",
      "5\n"
     ]
    }
   ],
   "source": [
    "#• Пределы интегрирования вводятся с клавиатуры.\n",
    "\n",
    "print(\"\"\"we'll find integral from your function analitically and numerically\n",
    "        for that you need to put two numbers: lower and upper limits: \"\"\")\n",
    "a, b = int(input()), int(input())"
   ]
  },
  {
   "cell_type": "code",
   "execution_count": 5,
   "metadata": {},
   "outputs": [
    {
     "name": "stdout",
     "output_type": "stream",
     "text": [
      "analitically: \n"
     ]
    },
    {
     "data": {
      "text/latex": [
       "$\\displaystyle e^{x} + \\cos{\\left(x \\right)}$"
      ],
      "text/plain": [
       "exp(x) + cos(x)"
      ]
     },
     "execution_count": 5,
     "metadata": {},
     "output_type": "execute_result"
    }
   ],
   "source": [
    "#• Интеграл функции вычислить двумя способами:\n",
    "# 1. аналитически (sympy):\n",
    "\n",
    "from sympy import *\n",
    "x = Symbol('x')\n",
    "\n",
    "print('analitically: ')\n",
    "integrate(f(x),x)"
   ]
  },
  {
   "cell_type": "code",
   "execution_count": 6,
   "metadata": {},
   "outputs": [
    {
     "name": "stdout",
     "output_type": "stream",
     "text": [
      "numerically (from 0 to 5): \n"
     ]
    },
    {
     "data": {
      "text/plain": [
       "(146.69682128803984, 1.6286618863330365e-12)"
      ]
     },
     "execution_count": 6,
     "metadata": {},
     "output_type": "execute_result"
    }
   ],
   "source": [
    "#• Интеграл функции вычислить двумя способами:\n",
    "# 2. численно (numpy/scipy):\n",
    "\n",
    "from scipy.integrate import quad\n",
    "import numpy as np\n",
    "\n",
    "print(f\"numerically (from {a} to {b}): \")\n",
    "#sympy_integrate(f(x), (x, a, b)) #вообще мы посчитали, но это с помощью sympy\n",
    "quad(f, a, b) #help(quad) говорит, что первое число - результат численного интегрирования, второй его разница с действительностью"
   ]
  }
 ],
 "metadata": {
  "kernelspec": {
   "display_name": "Python 3",
   "language": "python",
   "name": "python3"
  },
  "language_info": {
   "codemirror_mode": {
    "name": "ipython",
    "version": 3
   },
   "file_extension": ".py",
   "mimetype": "text/x-python",
   "name": "python",
   "nbconvert_exporter": "python",
   "pygments_lexer": "ipython3",
   "version": "3.7.4"
  }
 },
 "nbformat": 4,
 "nbformat_minor": 2
}
