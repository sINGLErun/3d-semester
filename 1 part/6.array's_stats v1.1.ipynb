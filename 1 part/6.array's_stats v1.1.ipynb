{
 "cells": [
  {
   "cell_type": "code",
   "execution_count": 1,
   "metadata": {},
   "outputs": [
    {
     "name": "stdout",
     "output_type": "stream",
     "text": [
      "minimal el.: 6\n",
      "maximal el.: 618\n",
      "mean value: 126.42857142857143\n",
      "rms value: 201.84331862790324\n",
      "5th moment: 2967713067064.4023\n",
      "centrality proof: -1.4210854715202004e-14 (?)\n",
      "\n",
      " average of 5 upper numbers: 593542613603.3348\n"
     ]
    }
   ],
   "source": [
    "#• Вычислить минимум и максимум.\n",
    "#• Вычислить среднее значение.\n",
    "#• Вычислить среднеквадратическое отклонение.\n",
    "#• Вычислить пятый центральный момент.\n",
    "#• Докажите, что он действительно центральный.\n",
    "#• Вычислить среднее из пяти вышеуказанных чисел.\n",
    "\n",
    "import numpy as np\n",
    "\n",
    "a = np.array([123, 12, 124, 546, 6, 16, 15, 618, 18, 6, 191, 71, 8, 16])\n",
    "mn = np.min(a)\n",
    "print(f\"minimal el.: {mn}\")\n",
    "\n",
    "mx = np.max(a)\n",
    "print(f\"maximal el.: {mx}\")\n",
    "\n",
    "mean = np.mean(a)\n",
    "print(f\"mean value: {mean}\")\n",
    "\n",
    "rms = np.std(a, ddof = 1)\n",
    "print(f\"rms value: {a.std(ddof = 1)}\")\n",
    "\n",
    "moment = np.mean((a - np.mean(a)) ** 5)\n",
    "print(f\"5th moment: {moment}\")\n",
    "\n",
    "#rand = np.random.sample(1000) со случайными числами ~Ае-17\n",
    "print(f\"centrality proof: {np.mean(a - np.mean(a))} (?)\")\n",
    "\n",
    "print(f\"\\n average of 5 upper numbers: {np.mean([mn, mx, mean, rms, moment])}\")"
   ]
  },
  {
   "cell_type": "code",
   "execution_count": 10,
   "metadata": {},
   "outputs": [
    {
     "name": "stdout",
     "output_type": "stream",
     "text": [
      "[123  12 124 546   6  16  15 618  18   6 191  71   8  16]\n"
     ]
    },
    {
     "data": {
      "text/plain": [
       "17.0"
      ]
     },
     "execution_count": 10,
     "metadata": {},
     "output_type": "execute_result"
    }
   ],
   "source": [
    "print(a)\n",
    "np.median(a)"
   ]
  }
 ],
 "metadata": {
  "kernelspec": {
   "display_name": "Python 3",
   "language": "python",
   "name": "python3"
  },
  "language_info": {
   "codemirror_mode": {
    "name": "ipython",
    "version": 3
   },
   "file_extension": ".py",
   "mimetype": "text/x-python",
   "name": "python",
   "nbconvert_exporter": "python",
   "pygments_lexer": "ipython3",
   "version": "3.7.4"
  }
 },
 "nbformat": 4,
 "nbformat_minor": 2
}
