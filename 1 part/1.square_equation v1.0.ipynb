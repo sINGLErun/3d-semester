{
 "cells": [
  {
   "cell_type": "code",
   "execution_count": null,
   "metadata": {},
   "outputs": [
    {
     "name": "stdout",
     "output_type": "stream",
     "text": [
      "write three coefficient (a, b, c respectively)\n",
      "    for creating your own square equation\n"
     ]
    }
   ],
   "source": [
    "from cmath import sqrt\n",
    "\n",
    "def solsearcher(a, b, c):\n",
    "    if a:\n",
    "        dscr = b*b - 4*a*c\n",
    "        if (dscr == 0): print(f'pare of equal solution: x1=x2={-b/(2*a)}')\n",
    "        elif dscr > 0: print(f'solution is: x1={(-b-sqrt(dscr))/(2*a)}, x2={(-b+sqrt(dscr))/(2*a)}')\n",
    "        else: print(f'no rational roots, but here is the irrational: x1={(-b-sqrt(dscr))/(2*a)}, x2={(-b+sqrt(dscr))/(2*a)}')\n",
    "    elif b: print(f'here is your only root: x1={-c/b}')\n",
    "    elif c: print('here is no solution to this equation')\n",
    "    else: print('here is infinitely many solutions')\n",
    "\n",
    "print('''write three coefficient (a, b, c respectively)\n",
    "    for creating your own square equation''')\n",
    "a,b,c = int(input()), int(input()), int(input())\n",
    "print(f'your equation: {a}x^2 + {b}x + {c} = 0')\n",
    "solsearcher(a, b, c)"
   ]
  },
  {
   "cell_type": "code",
   "execution_count": 2,
   "metadata": {},
   "outputs": [
    {
     "ename": "ZeroDivisionError",
     "evalue": "division by zero",
     "output_type": "error",
     "traceback": [
      "\u001b[1;31m---------------------------------------------------------------------------\u001b[0m",
      "\u001b[1;31mZeroDivisionError\u001b[0m                         Traceback (most recent call last)",
      "\u001b[1;32m<ipython-input-2-700aace389cf>\u001b[0m in \u001b[0;36m<module>\u001b[1;34m\u001b[0m\n\u001b[1;32m----> 1\u001b[1;33m \u001b[1;36m6\u001b[0m\u001b[1;33m/\u001b[0m\u001b[1;36m0\u001b[0m\u001b[1;33m\u001b[0m\u001b[1;33m\u001b[0m\u001b[0m\n\u001b[0m",
      "\u001b[1;31mZeroDivisionError\u001b[0m: division by zero"
     ]
    }
   ],
   "source": []
  }
 ],
 "metadata": {
  "kernelspec": {
   "display_name": "Python 3",
   "language": "python",
   "name": "python3"
  },
  "language_info": {
   "codemirror_mode": {
    "name": "ipython",
    "version": 3
   },
   "file_extension": ".py",
   "mimetype": "text/x-python",
   "name": "python",
   "nbconvert_exporter": "python",
   "pygments_lexer": "ipython3",
   "version": "3.7.4"
  }
 },
 "nbformat": 4,
 "nbformat_minor": 2
}
