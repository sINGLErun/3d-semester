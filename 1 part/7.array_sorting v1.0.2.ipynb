{
 "cells": [
  {
   "cell_type": "code",
   "execution_count": 1,
   "metadata": {},
   "outputs": [
    {
     "name": "stdout",
     "output_type": "stream",
     "text": [
      "array of random rational numbers: \n",
      "[5.833, 5.5, 2.358, 8.915, 9.462, 4.689, 9.218, 1.76, 2.745, 7.337, 2.947]\n",
      "\n",
      "sorted increasing array: \n",
      "[1.76, 2.358, 2.745, 2.947, 4.689, 5.5, 5.833, 7.337, 8.915, 9.218, 9.462]\n",
      "\n",
      "array of random complex numbers: \n",
      "[5j, (10+10j), 8j, (4+10j), (7+0j), (6+1j), 6j, 1j, (4+4j), (7+9j), 7j]\n",
      "\n",
      "array sorted by absolute value: \n",
      "[1j, 5j, (4+4j), 6j, (6+1j), (7+0j), 7j, 8j, (4+10j), (7+9j), (10+10j)]\n",
      "\n",
      "array sorted by decreasing of real part: \n",
      "[(10+10j), (7+0j), (7+9j), (6+1j), (4+10j), (4+4j), 5j, 8j, 6j, 1j, 7j]\n",
      "\n",
      "original order of strings: \n",
      "['We', 'are', 'coding', 'on', 'Python', 'v3.7.4']\n",
      "\n",
      "strings sorted by it's length: \n",
      "['We', 'on', 'are', 'coding', 'Python', 'v3.7.4']\n",
      "\n",
      "original order in tuple same as order in strings\n",
      "cortege sorted in lexicographical order: \n",
      "['Python', 'We', 'are', 'coding', 'on', 'v3.7.4']\n",
      "\n",
      "initial order of tuple of strings: \n",
      "([75, 8.12, 'bb', 'bc'], [12, 12, 3], [1, 'a'], [4, 'ab', 'abc'], ['a', 'aa', 'ab', 'abb', 'abc'])\n",
      "\n",
      "tuple of strings sorted by it's length\n",
      "[[1, 'a'], [12, 12, 3], [4, 'ab', 'abc'], [75, 8.12, 'bb', 'bc'], ['a', 'aa', 'ab', 'abb', 'abc']]\n"
     ]
    }
   ],
   "source": [
    "#7. Сортировка.\n",
    "# • Отсортировать массив действительных чисел по возрастанию.\n",
    "# • Отсортировать массив комплексных чисел по модулю.\n",
    "# • Отсортировать массив комплексных чисел по убыванию действительной части.\n",
    "# • Отсортировать список строк по длине.\n",
    "# • Отсортировать кортеж строк в лексикографическом порядке.\n",
    "# • Отсортировать кортеж списков по возрастанию длины.\n",
    "\n",
    "import numpy as np\n",
    "\n",
    "int_nums = [float(\"{0:.3f}\".format(np.random.randint(0, 11) + np.random.sample())) for i in range(0, 11)]\n",
    "print(\"array of random rational numbers: \")\n",
    "print(int_nums)\n",
    "print(\"\\nsorted increasing array: \")\n",
    "print(sorted(int_nums))\n",
    "\n",
    "comp_nums = [complex(np.random.randint(0, 11) , np.random.randint(0, 11)) for i in range(0, 11)]\n",
    "print(\"\\narray of random complex numbers: \" )\n",
    "print(comp_nums)\n",
    "print(\"\\narray sorted by absolute value: \")\n",
    "print(sorted(comp_nums, key = abs))\n",
    "\n",
    "print(\"\\narray sorted by decreasing of real part: \")\n",
    "print(sorted(comp_nums, key = lambda num: -num.real)) #в ключ надо запихнуть функцию одного переменного, которая будет возвращать ключ сортировки\n",
    "\n",
    "strings = ['We', 'are', 'coding', 'on', 'Python', 'v3.7.4']\n",
    "print(\"\\noriginal order of strings: \")\n",
    "print(strings)\n",
    "print(\"\\nstrings sorted by it's length: \")\n",
    "strings.sort(key = len) #так нельзя сделать с кортежем\n",
    "print(strings)          #если сразу печатать выводит результат ф-и .sort(): None\n",
    "\n",
    "cortege = 'We', 'are', 'coding', 'on', 'Python', 'v3.7.4'\n",
    "print(\"\\noriginal order in tuple same as order in strings\")\n",
    "print(\"cortege sorted in lexicographical order: \")\n",
    "print(sorted(cortege, key = lambda s: s[::1]))\n",
    "\n",
    "cort_str = [75, 8.12, 'bb', 'bc'], [12, 12, 3], [1, 'a'], [4, 'ab', 'abc'], ['a', 'aa', 'ab', 'abb', 'abc']\n",
    "print(\"\\ninitial order of tuple of strings: \")\n",
    "print(cort_str)\n",
    "print(\"\\ntuple of strings sorted by it's length\")\n",
    "print(sorted(cort_str, key = len))"
   ]
  },
  {
   "cell_type": "code",
   "execution_count": 29,
   "metadata": {},
   "outputs": [
    {
     "data": {
      "text/plain": [
       "['aab', 'aac', 'abb', 'abc', 'acc', 'cba']"
      ]
     },
     "execution_count": 29,
     "metadata": {},
     "output_type": "execute_result"
    }
   ],
   "source": [
    "strings = ['aab', 'abb', 'abc', 'aac', 'acc', 'cba']\n",
    "strings.sort(key = lambda s: s[0:2])\n",
    "strings"
   ]
  },
  {
   "cell_type": "code",
   "execution_count": 20,
   "metadata": {},
   "outputs": [
    {
     "ename": "AttributeError",
     "evalue": "'tuple' object has no attribute 'sort'",
     "output_type": "error",
     "traceback": [
      "\u001b[1;31m---------------------------------------------------------------------------\u001b[0m",
      "\u001b[1;31mAttributeError\u001b[0m                            Traceback (most recent call last)",
      "\u001b[1;32m<ipython-input-20-7fdaec12036e>\u001b[0m in \u001b[0;36m<module>\u001b[1;34m\u001b[0m\n\u001b[0;32m      1\u001b[0m \u001b[0mcortege\u001b[0m \u001b[1;33m=\u001b[0m \u001b[1;34m'We'\u001b[0m\u001b[1;33m,\u001b[0m \u001b[1;34m'are'\u001b[0m\u001b[1;33m,\u001b[0m \u001b[1;34m'coding'\u001b[0m\u001b[1;33m,\u001b[0m \u001b[1;34m'on'\u001b[0m\u001b[1;33m,\u001b[0m \u001b[1;34m'Python'\u001b[0m\u001b[1;33m,\u001b[0m \u001b[1;34m'v3.7.4'\u001b[0m\u001b[1;33m\u001b[0m\u001b[1;33m\u001b[0m\u001b[0m\n\u001b[1;32m----> 2\u001b[1;33m \u001b[0mprint\u001b[0m\u001b[1;33m(\u001b[0m\u001b[0mcortege\u001b[0m\u001b[1;33m.\u001b[0m\u001b[0msort\u001b[0m\u001b[1;33m(\u001b[0m\u001b[0mkey\u001b[0m \u001b[1;33m=\u001b[0m \u001b[1;32mlambda\u001b[0m \u001b[0ms\u001b[0m\u001b[1;33m:\u001b[0m \u001b[0ms\u001b[0m\u001b[1;33m[\u001b[0m\u001b[1;33m:\u001b[0m\u001b[1;33m:\u001b[0m\u001b[1;36m1\u001b[0m\u001b[1;33m]\u001b[0m\u001b[1;33m)\u001b[0m\u001b[1;33m)\u001b[0m\u001b[1;33m\u001b[0m\u001b[1;33m\u001b[0m\u001b[0m\n\u001b[0m",
      "\u001b[1;31mAttributeError\u001b[0m: 'tuple' object has no attribute 'sort'"
     ]
    }
   ],
   "source": [
    "cortege = 'We', 'are', 'coding', 'on', 'Python', 'v3.7.4'\n",
    "print(cortege.sort(key = lambda s: s[::1]))"
   ]
  }
 ],
 "metadata": {
  "kernelspec": {
   "display_name": "Python 3",
   "language": "python",
   "name": "python3"
  },
  "language_info": {
   "codemirror_mode": {
    "name": "ipython",
    "version": 3
   },
   "file_extension": ".py",
   "mimetype": "text/x-python",
   "name": "python",
   "nbconvert_exporter": "python",
   "pygments_lexer": "ipython3",
   "version": "3.7.4"
  }
 },
 "nbformat": 4,
 "nbformat_minor": 2
}
