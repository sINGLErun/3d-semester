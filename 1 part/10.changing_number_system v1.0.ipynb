{
 "cells": [
  {
   "cell_type": "code",
   "execution_count": 32,
   "metadata": {},
   "outputs": [],
   "source": [
    "help(int)"
   ]
  },
  {
   "cell_type": "code",
   "execution_count": 1,
   "metadata": {
    "scrolled": true
   },
   "outputs": [
    {
     "name": "stdout",
     "output_type": "stream",
     "text": [
      "please, put your number, old and new number system\n",
      "8\n",
      "10\n",
      "2\n"
     ]
    }
   ],
   "source": [
    "#13. Перевод чисел между системами счисления.\n",
    "#• Считать число, старое основание и новое основание.\n",
    "#• Вывести число в системе счисления с новым основанием\n",
    "\n",
    "print('please, put your number, old and new number system')\n",
    "number, old_base_number, new_base_number = int(input()), int(input()), int(input())"
   ]
  },
  {
   "cell_type": "code",
   "execution_count": 2,
   "metadata": {},
   "outputs": [
    {
     "data": {
      "text/plain": [
       "'1000'"
      ]
     },
     "execution_count": 2,
     "metadata": {},
     "output_type": "execute_result"
    }
   ],
   "source": [
    "#• Вывести число в системе счисления с новым основанием\n",
    "\n",
    "def convert(num, to_base = 10, from_base = 10):\n",
    "    n = int(str(num), from_base)\n",
    "    alphabet = \"0123456789ABCDEFGHIJKLMNOPQRSTUVWXYZ\"\n",
    "    if n < to_base:\n",
    "        return alphabet[n]\n",
    "    else:\n",
    "        #print(f'{n} {n % to_base} {alphabet[n % to_base]} {n//to_base}\\n')\n",
    "        return convert(n // to_base, to_base) + alphabet[n % to_base]\n",
    "    \n",
    "convert(number, to_base = new_base_number, from_base = old_base_number)"
   ]
  }
 ],
 "metadata": {
  "kernelspec": {
   "display_name": "Python 3",
   "language": "python",
   "name": "python3"
  },
  "language_info": {
   "codemirror_mode": {
    "name": "ipython",
    "version": 3
   },
   "file_extension": ".py",
   "mimetype": "text/x-python",
   "name": "python",
   "nbconvert_exporter": "python",
   "pygments_lexer": "ipython3",
   "version": "3.7.4"
  }
 },
 "nbformat": 4,
 "nbformat_minor": 2
}
