{
 "cells": [
  {
   "cell_type": "code",
   "execution_count": null,
   "metadata": {},
   "outputs": [],
   "source": [
    "#10. Матрицы.\n",
    "#• Сгенерировать две случайные матрицы заданного размера.\n",
    "#• Вычислить сумму, произведение, определитель и обратные матрицы.\n",
    "#• Реализовать сохранение матриц в файл.\n",
    "#• Добавить вариант со считыванием матриц из файла.\n",
    "#• Выбор формата обосновать, привести плюсы и минусы.\n",
    "#• Что нужно сделать, чтобы добавить поддержку матриц комплексных чисел?\n",
    "#• Измерить время обращения матриц 10x10, 100x100, 1000x1000\n",
    "\n",
    "import numpy as np\n",
    "from numpy.random import randint as rndm"
   ]
  },
  {
   "cell_type": "code",
   "execution_count": 2,
   "metadata": {},
   "outputs": [
    {
     "name": "stdout",
     "output_type": "stream",
     "text": [
      "[[2 4]\n",
      " [9 1]]\n",
      "\n",
      "\n",
      "[[6 1]\n",
      " [0 3]]\n"
     ]
    }
   ],
   "source": [
    "#• Сгенерировать две случайные матрицы заданного размера.\n",
    "\n",
    "am, an = 2, 2\n",
    "A = rndm(0, 10, (am,an))\n",
    "print(A)\n",
    "\n",
    "print('\\n')\n",
    "\n",
    "bm, bn = 2, 2\n",
    "B = rndm(0, 10, (bm, bn))\n",
    "print(B)"
   ]
  },
  {
   "cell_type": "code",
   "execution_count": 3,
   "metadata": {},
   "outputs": [
    {
     "name": "stdout",
     "output_type": "stream",
     "text": [
      "A+B =\n",
      " [[8 5]\n",
      " [9 4]]\n",
      "\n",
      "AB =\n",
      " [[12 14]\n",
      " [54 12]]\n",
      "\n",
      "|A|=-34.00000000000001\n",
      "|B|=17.999999999999996\n",
      "\n",
      "A^-1 =\n",
      " [[-0.02941176  0.11764706]\n",
      " [ 0.26470588 -0.05882353]]\n",
      "B^-1 =\n",
      " [[ 0.16666667 -0.05555556]\n",
      " [ 0.          0.33333333]]\n",
      "\n"
     ]
    }
   ],
   "source": [
    "#• Вычислить сумму, произведение, определитель и обратные матрицы.\n",
    "\n",
    "print(f\"A+B =\\n {A+B}\\n\")\n",
    "print(f\"AB =\\n {A@B}\\n\")\n",
    "print(f\"|A|={np.linalg.det(A)}\\n|B|={np.linalg.det(B)}\\n\")\n",
    "print(f\"A^-1 =\\n {np.linalg.inv(A)}\\nB^-1 =\\n {np.linalg.inv(B)}\\n\")"
   ]
  },
  {
   "cell_type": "code",
   "execution_count": 12,
   "metadata": {},
   "outputs": [],
   "source": [
    "#• Реализовать сохранение матриц в файл.\n",
    "\n",
    "with open('D:\\\\python\\\\txtfiles\\\\matrices_output.txt', 'w') as f:\n",
    "    f.write(f\"A+B =\\n {A+B}\\n\\n\")\n",
    "    f.write(f\"AB =\\n {A@B}\\n\\n\")\n",
    "    f.write(f\"|A|={np.linalg.det(A)}\\n|B|={np.linalg.det(B)}\\n\\n\")\n",
    "    f.write(f\"A^-1 =\\n {np.linalg.inv(A)}\\n\\nB^-1 =\\n {np.linalg.inv(B)}\\n\")"
   ]
  },
  {
   "cell_type": "code",
   "execution_count": 1,
   "metadata": {},
   "outputs": [],
   "source": [
    "#• Добавить вариант со считыванием матриц из файла.\n",
    "#плюсы формата: это быстро пишется\n",
    "#минусы формата: нужно писать данные в разные файлы\n",
    "\n",
    "A1 = np.loadtxt('D:\\\\python\\\\txtfiles\\\\matrix_A_input.txt')\n",
    "print(f\"{Ac}\\n\")\n",
    "\n",
    "B1 = np.loadtxt('D:\\\\python\\\\txtfiles\\\\matrix_B_input.txt')\n",
    "print(f\"{Bc}\\n\")\n",
    "\n",
    "print(f\"A+B =\\n {A1+B1}\\n\")\n",
    "print(f\"AB =\\n {A1@B1}\\n\")\n",
    "print(f\"|A|={np.linalg.det(A1)}\\n|B|={np.linalg.det(B1)}\\n\")\n",
    "print(f\"A^-1 =\\n {np.linalg.inv(A1)}\\nB^-1 =\\n {np.linalg.inv(B1)}\\n\")"
   ]
  },
  {
   "cell_type": "code",
   "execution_count": 88,
   "metadata": {},
   "outputs": [
    {
     "name": "stdout",
     "output_type": "stream",
     "text": [
      "[[ 1.+3.j  3.+1.j]\n",
      " [11.+6.j  1.-7.j]]\n",
      "\n",
      "[[  4.-4.j   9.+7.j]\n",
      " [146.-1.j   3.-1.j]]\n",
      "\n",
      "\n",
      "\n",
      "A+B =\n",
      " [[  5.-1.j  12.+8.j]\n",
      " [157.+5.j   4.-8.j]]\n",
      "\n",
      "AB =\n",
      " [[455. +151.j  -2.  +34.j]\n",
      " [207.-1043.j  53. +109.j]]\n",
      "\n",
      "|A|=(-4.999999999999995-32.99999999999999j)\n",
      "|B|=(-1313.0000000000011-1029.0000000000011j)\n",
      "\n",
      "A^-1 =\n",
      " [[ 0.20287253+0.06104129j  0.04308797-0.08438061j]\n",
      " [ 0.22710952-0.2989228j  -0.09335727+0.01615799j]]\n",
      "B^-1 =\n",
      " [[-0.00104571+1.58113561e-03j  0.00683482-2.51544302e-05j]\n",
      " [ 0.06851672-5.44582634e-02j -0.00040822+3.36638146e-03j]]\n",
      "\n"
     ]
    }
   ],
   "source": [
    "#• Что нужно сделать, чтобы добавить поддержку матриц комплексных чисел?\n",
    "#numpy-матрицы вообще работают только с фиксированным типом, максимум - плавающая точка\n",
    "#нужно определить тип массива\n",
    "#но rndm не поддерживает этот тип\n",
    "\n",
    "Ac = np.array([[1+3j , 3+1j], [11+6j , 1-7j]], np.complex)\n",
    "Bc = np.array([[4-4j , 9+7j], [146-1j , 3-1j]], np.complex)\n",
    "print(f\"{Ac}\\n\")\n",
    "print(f\"{Bc}\\n\")\n",
    "\n",
    "print('\\n')\n",
    "\n",
    "print(f\"A+B =\\n {Ac+Bc}\\n\")\n",
    "print(f\"AB =\\n {Ac@Bc}\\n\")\n",
    "print(f\"|A|={np.linalg.det(Ac)}\\n|B|={np.linalg.det(Bc)}\\n\")\n",
    "print(f\"A^-1 =\\n {np.linalg.inv(Ac)}\\nB^-1 =\\n {np.linalg.inv(Bc)}\\n\")\n",
    "\n",
    "#help(rndm)\n",
    "#ну, работает"
   ]
  },
  {
   "cell_type": "code",
   "execution_count": 41,
   "metadata": {},
   "outputs": [
    {
     "name": "stdout",
     "output_type": "stream",
     "text": [
      "dt = 0.1620790958404541\n"
     ]
    }
   ],
   "source": [
    "#• Измерить время обращения матриц 10x10, 100x100, 1000x1000.\n",
    "import time\n",
    "\n",
    "atm, atn = 1000, 1000\n",
    "At = rndm(0, 10, (atm,atn))\n",
    "\n",
    "t1 = time.time()\n",
    "At1 = np.linalg.inv(At)\n",
    "t2 = time.time()\n",
    "\n",
    "print(f\"dt = {t2-t1}\")"
   ]
  }
 ],
 "metadata": {
  "kernelspec": {
   "display_name": "Python 3",
   "language": "python",
   "name": "python3"
  },
  "language_info": {
   "codemirror_mode": {
    "name": "ipython",
    "version": 3
   },
   "file_extension": ".py",
   "mimetype": "text/x-python",
   "name": "python",
   "nbconvert_exporter": "python",
   "pygments_lexer": "ipython3",
   "version": "3.7.4"
  }
 },
 "nbformat": 4,
 "nbformat_minor": 2
}
