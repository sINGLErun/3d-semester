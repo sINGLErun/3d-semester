{
 "cells": [
  {
   "cell_type": "code",
   "execution_count": 2,
   "metadata": {},
   "outputs": [
    {
     "data": {
      "text/plain": [
       "'We   are ,      coding .   on :    Python  v3.7.4    ?    this    is    very fun   after   C language !'"
      ]
     },
     "execution_count": 2,
     "metadata": {},
     "output_type": "execute_result"
    }
   ],
   "source": [
    "#9. Приведение текста в соответствие правилам.\n",
    "#• Считать строку произвольной длины.\n",
    "#• Преобразовать строку следующим образом.\n",
    "# 1. Удалить пробелы, стоящие перед точкой или запятой.\n",
    "# 2. После точек, запятых, двоеточий и т.д. поставить пробел.\n",
    "# 3. Несколько пробелов, следующих подряд, заменить на одиночный.\n",
    "# 4. Первую букву каждого предложения сделать заглавной.\n",
    "#• Что нужно сделать, чтобы программа обрабатывала строку на любом языке?\n",
    "\n",
    "#string = input()\n",
    "string = 'We   are ,      coding .   on :    Python  v3.7.4    ?    this    is    very fun   after   C language !'\n",
    "#string = 'Мы кодируем , на : питоне ? это очень      весело , особенно   после си  ! '\n",
    "string"
   ]
  },
  {
   "cell_type": "code",
   "execution_count": 70,
   "metadata": {},
   "outputs": [
    {
     "name": "stdout",
     "output_type": "stream",
     "text": [
      "['We', 'are,', 'are,', 'coding.', 'coding.', 'On:', 'On:', 'Python', 'v3.7.4?', 'v3.7.4?', 'This', 'is', 'very', 'fun', 'after', 'C', 'language!', 'language!']\n",
      "\n",
      "['We', 'are,', 'coding.', 'On:', 'Python', 'v3.7.4?', 'This', 'is', 'very', 'fun', 'after', 'C', 'language!']\n"
     ]
    }
   ],
   "source": [
    "# 1. Удалить пробелы, стоящие перед точкой или запятой.\n",
    "# 4. Первую букву каждого предложения сделать заглавной.\n",
    "\n",
    "s = string.split()\n",
    "for i in range(0, len(s)):\n",
    "    if s[i] == '.' or s[i] == ',' or s[i] == ':' or s[i] == ';' or s[i] == '!' or s[i] == '?' :\n",
    "        if (i + 1 < len(s)) and (s[i] == '.'or s[i] == '!' or s[i] == '?'): #сейчас бы проверять равенство в уже изменённой строке\n",
    "            s[i + 1] = s[i + 1].title()\n",
    "        s[i - 1] = s[i - 1] + s[i] #не в том слове буквы увеличиваешь\n",
    "        s[i] = s[i - 1]\n",
    "\n",
    "print(s)\n",
    "#кайф, хотелось бы только это посжатее\n",
    "\n",
    "from itertools import groupby\n",
    "s = [el for el, _ in groupby(s)]\n",
    "print(f'\\n{s}')"
   ]
  },
  {
   "cell_type": "code",
   "execution_count": 71,
   "metadata": {},
   "outputs": [
    {
     "data": {
      "text/plain": [
       "'We are, coding. On: Python v3.7.4? This is very fun after C language!'"
      ]
     },
     "execution_count": 71,
     "metadata": {},
     "output_type": "execute_result"
    }
   ],
   "source": [
    "# 2. После точек, запятых, двоеточий и т.д. поставить пробел.\n",
    "# 3. Несколько пробелов, следующих подряд, заменить на одиночный.\n",
    "' '.join(s)"
   ]
  },
  {
   "cell_type": "code",
   "execution_count": 37,
   "metadata": {
    "scrolled": true
   },
   "outputs": [
    {
     "name": "stdout",
     "output_type": "stream",
     "text": [
      "Help on method_descriptor:\n",
      "\n",
      "title(self, /)\n",
      "    Return a version of the string where each word is titlecased.\n",
      "    \n",
      "    More specifically, words start with uppercased characters and all remaining\n",
      "    cased characters have lower case.\n",
      "\n"
     ]
    }
   ],
   "source": [
    "help(str.title) #Делает все остальные буквы большими"
   ]
  },
  {
   "cell_type": "code",
   "execution_count": 13,
   "metadata": {},
   "outputs": [
    {
     "data": {
      "text/plain": [
       "'We are , coding. on : Python v3.7.4 ? this is very fun after C language!'"
      ]
     },
     "execution_count": 13,
     "metadata": {},
     "output_type": "execute_result"
    }
   ],
   "source": []
  },
  {
   "cell_type": "code",
   "execution_count": 6,
   "metadata": {},
   "outputs": [
    {
     "data": {
      "text/plain": [
       "'We   are ,      coding .   on :    Python  v3.7.4    ?    this    is    very fun   after   C language !'"
      ]
     },
     "execution_count": 6,
     "metadata": {},
     "output_type": "execute_result"
    }
   ],
   "source": [
    "string"
   ]
  }
 ],
 "metadata": {
  "kernelspec": {
   "display_name": "Python 3",
   "language": "python",
   "name": "python3"
  },
  "language_info": {
   "codemirror_mode": {
    "name": "ipython",
    "version": 3
   },
   "file_extension": ".py",
   "mimetype": "text/x-python",
   "name": "python",
   "nbconvert_exporter": "python",
   "pygments_lexer": "ipython3",
   "version": "3.7.4"
  }
 },
 "nbformat": 4,
 "nbformat_minor": 2
}
