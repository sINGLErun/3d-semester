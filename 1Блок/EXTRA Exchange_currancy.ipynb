{
 "cells": [
  {
   "cell_type": "code",
   "execution_count": 5,
   "metadata": {},
   "outputs": [
    {
     "name": "stdout",
     "output_type": "stream",
     "text": [
      "введите пару валют: \n",
      "\n",
      "RUB\n",
      "EUR\n",
      "\n",
      "введите сумму: \n",
      "\n",
      "12000\n",
      "RUB\n",
      "\n",
      "168.69 EUR\n"
     ]
    }
   ],
   "source": [
    "#25. Конвертер валют, который сам узнает курс.\n",
    "#• Запросить у пользователя пару валют и сумму.\n",
    "#• Перевести сумму из одной валюты в другую.\n",
    "#• Курс перевода запросить из сети Интернет автоматически.\n",
    "\n",
    "from easymoney.money import EasyPeasy\n",
    "\n",
    "ep = EasyPeasy()\n",
    "\n",
    "print('введите пару валют: \\n')\n",
    "FC = str(input())\n",
    "TC = str(input())\n",
    "print('\\nвведите сумму: \\n')\n",
    "SUM = float(input())\n",
    "\n",
    "ep.currency_converter(amount = SUM, from_currency = FC, to_currency = TC, pretty_print = True)"
   ]
  }
 ],
 "metadata": {
  "kernelspec": {
   "display_name": "Python 3",
   "language": "python",
   "name": "python3"
  },
  "language_info": {
   "codemirror_mode": {
    "name": "ipython",
    "version": 3
   },
   "file_extension": ".py",
   "mimetype": "text/x-python",
   "name": "python",
   "nbconvert_exporter": "python",
   "pygments_lexer": "ipython3",
   "version": "3.7.4"
  }
 },
 "nbformat": 4,
 "nbformat_minor": 2
}
