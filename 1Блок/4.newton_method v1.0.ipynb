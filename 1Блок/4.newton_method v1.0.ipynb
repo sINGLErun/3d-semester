{
 "cells": [
  {
   "cell_type": "code",
   "execution_count": 3,
   "metadata": {},
   "outputs": [],
   "source": [
    "#4. Программа для решения уравнения вида f(x) = 0 методом Ньютона.\n",
    "#• Функция f(x) задается в коде или вводится с клавиатуры.\n",
    "#• Производная функции f(x) вычисляется аналитически.\n",
    "#• Начальное приближение и требуемая точность вычисления задаются с клавиатуры.\n",
    "#• Промежуточные точки и касательные отобразить графически.\n",
    "\n",
    "import math\n",
    "\n",
    "def f(x): return math.exp(x) - math.sin(x)\n",
    "def der_f(x): return math.exp(x) - math.cos(x)"
   ]
  },
  {
   "cell_type": "code",
   "execution_count": 4,
   "metadata": {},
   "outputs": [],
   "source": [
    "def solution(f,der_f,x0,acc,max_iter = 100):\n",
    "    xn = x0\n",
    "    eps = 0.1**acc\n",
    "    \n",
    "    for n in range(0,max_iter): #обработка зацикленности, стоит опциональный max_iter - классика \n",
    "        fxn = f(xn)\n",
    "        if abs(fxn) < eps:\n",
    "            print(f'found solution after {n} iterations')\n",
    "            print(f'your root is: {round(xn, acc)}') #находим, выводим корень\n",
    "            return None\n",
    "        dfxn = der_f(xn)\n",
    "        if dfxn == 0:\n",
    "            print('zero derivative. No solution found') #обработка нуля производной\n",
    "            return None\n",
    "        xn = xn - fxn/dfxn\n",
    "    print('exceeded maximum iterations. No solution found') #пишем, если не успели найти корень\n",
    "    return None"
   ]
  },
  {
   "cell_type": "code",
   "execution_count": 5,
   "metadata": {},
   "outputs": [
    {
     "name": "stdout",
     "output_type": "stream",
     "text": [
      "we'll solve equation f(x)=0 with your accuracy\n",
      "give me an initial approximation:\n",
      "8\n",
      "how many numbers do you want to see after the point?\n",
      "5\n",
      "\n",
      "\n",
      "found solution after 13 iterations\n",
      "your root is: -9.42486\n"
     ]
    }
   ],
   "source": [
    "#• Начальное приближение и требуемая точность вычисления задаются с клавиатуры.\n",
    "\n",
    "print(\"we'll solve equation f(x)=0 with your accuracy\")\n",
    "print('give me an initial approximation:')\n",
    "x0 = float(input())\n",
    "print('how many numbers do you want to see after the point?')\n",
    "acc = int(input())\n",
    "print('\\n')\n",
    "\n",
    "solution(f, der_f, x0, acc) #round, это правда"
   ]
  },
  {
   "cell_type": "code",
   "execution_count": 8,
   "metadata": {},
   "outputs": [
    {
     "data": {
      "image/png": "[encoded data removed]",
      "text/plain": [
       "<Figure size 432x288 with 1 Axes>"
      ]
     },
     "metadata": {
      "needs_background": "light"
     },
     "output_type": "display_data"
    }
   ],
   "source": [
    "#• Промежуточные точки и касательные отобразить графически.\n",
    "#возможно он соединяет соседние точки - да, так и есть\n",
    "import matplotlib.pyplot as plt\n",
    "\n",
    "def plot_drawer(f,der_f,x0,acc,max_iter = 100):\n",
    "    xn = x0\n",
    "    eps = 0.1**acc\n",
    "    \n",
    "    for n in range(0,max_iter): #обработка зацикленности, стоит опциональный max_iter - классика \n",
    "        fxn = f(xn)\n",
    "        if abs(fxn) < eps:\n",
    "            return None\n",
    "        dfxn = der_f(xn)\n",
    "        #print(dfxn) это мы для тестов писали\n",
    "        if dfxn == 0:\n",
    "            return None\n",
    "        xn = xn - fxn/dfxn\n",
    "        plt.plot([xn - 1, xn + 1], [dfxn*(-1) + f(xn), dfxn*(1) + f(xn)])\n",
    "        plt.scatter(xn, f(xn))\n",
    "    return None\n",
    "\n",
    "plot_drawer(f, der_f, x0, acc) #дурацкие пробелы"
   ]
  },
  {
   "cell_type": "code",
   "execution_count": 5,
   "metadata": {},
   "outputs": [
    {
     "name": "stdout",
     "output_type": "stream",
     "text": [
      "Help on built-in function round in module builtins:\n",
      "\n",
      "round(number, ndigits=None)\n",
      "    Round a number to a given precision in decimal digits.\n",
      "    \n",
      "    The return value is an integer if ndigits is omitted or None.  Otherwise\n",
      "    the return value has the same type as the number.  ndigits may be negative.\n",
      "\n"
     ]
    }
   ],
   "source": [
    "help(round)"
   ]
  }
 ],
 "metadata": {
  "kernelspec": {
   "display_name": "Python 3",
   "language": "python",
   "name": "python3"
  },
  "language_info": {
   "codemirror_mode": {
    "name": "ipython",
    "version": 3
   },
   "file_extension": ".py",
   "mimetype": "text/x-python",
   "name": "python",
   "nbconvert_exporter": "python",
   "pygments_lexer": "ipython3",
   "version": "3.7.4"
  }
 },
 "nbformat": 4,
 "nbformat_minor": 2
}
